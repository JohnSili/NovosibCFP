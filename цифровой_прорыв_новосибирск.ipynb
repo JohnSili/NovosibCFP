{
  "nbformat": 4,
  "nbformat_minor": 0,
  "metadata": {
    "colab": {
      "provenance": [],
      "mount_file_id": "1cKIS8lyQ62TttZ4aL1ccvI9DFW0C8P0b",
      "authorship_tag": "ABX9TyMQSURezy6semx8OqRqAYsS",
      "include_colab_link": true
    },
    "kernelspec": {
      "name": "python3",
      "display_name": "Python 3"
    },
    "language_info": {
      "name": "python"
    }
  },
  "cells": [
    {
      "cell_type": "markdown",
      "metadata": {
        "id": "view-in-github",
        "colab_type": "text"
      },
      "source": [
        "<a href=\"https://colab.research.google.com/github/JohnSili/NovosibCFP/blob/main/%D1%86%D0%B8%D1%84%D1%80%D0%BE%D0%B2%D0%BE%D0%B9_%D0%BF%D1%80%D0%BE%D1%80%D1%8B%D0%B2_%D0%BD%D0%BE%D0%B2%D0%BE%D1%81%D0%B8%D0%B1%D0%B8%D1%80%D1%81%D0%BA.ipynb\" target=\"_parent\"><img src=\"https://colab.research.google.com/assets/colab-badge.svg\" alt=\"Open In Colab\"/></a>"
      ]
    },
    {
      "cell_type": "code",
      "execution_count": 1,
      "metadata": {
        "id": "hIriQgCoL1c1",
        "colab": {
          "base_uri": "https://localhost:8080/"
        },
        "outputId": "3de615ea-ae8b-4b7c-b42e-d775475eed7a"
      },
      "outputs": [
        {
          "output_type": "stream",
          "name": "stdout",
          "text": [
            "Mounted at /content/drive\n"
          ]
        }
      ],
      "source": [
        "from google.colab import drive\n",
        "drive.mount('/content/drive')"
      ]
    },
    {
      "cell_type": "code",
      "source": [
        "import pandas as pd\n",
        "df = pd.read_csv('/content/drive/MyDrive/train_dataset_luggage/bsm_data_train.csv')"
      ],
      "metadata": {
        "id": "CitgroeAisje"
      },
      "execution_count": 2,
      "outputs": []
    },
    {
      "cell_type": "code",
      "source": [
        "import pandas as pd\n",
        "\n",
        "# Загрузка данных о потоке BSM\n",
        "bsm_data_train = pd.read_csv('/content/drive/MyDrive/train_dataset_luggage/bsm_data_train.csv')\n",
        "\n",
        "# Загрузка данных о расписании рейсов\n",
        "flight_rasp_data = pd.read_csv('/content/drive/MyDrive/train_dataset_luggage/flight_rasp_data.csv')\n",
        "\n",
        "# Загрузка данных о прогнозе прибытия\n",
        "arrival_profile_data = pd.read_csv('/content/drive/MyDrive/train_dataset_luggage/arrival_profile_data.csv')\n",
        "arrival_profile_value = pd.read_csv('/content/drive/MyDrive/train_dataset_luggage/arrival_profile_value.csv')"
      ],
      "metadata": {
        "id": "aVNEM_RVjQYM"
      },
      "execution_count": 7,
      "outputs": []
    },
    {
      "cell_type": "code",
      "source": [
        "# Посмотрим на первые несколько строк данных\n",
        "print(bsm_data_train.head())\n",
        "\n",
        "# Проверим общую информацию о данных\n",
        "print(bsm_data_train.info())\n",
        "\n",
        "# Проверим наличие пропущенных значений\n",
        "print(bsm_data_train.isnull().sum())\n",
        "\n",
        "# Статистика по числовым признакам\n",
        "print(bsm_data_train.describe())\n",
        "\n",
        "# Уникальные значения в каждом столбце\n",
        "for column in bsm_data_train.columns:\n",
        "    unique_values = bsm_data_train[column].nunique()\n",
        "    print(f'Уникальных значений в столбце {column}: {unique_values}')\n",
        "\n",
        "# Посмотрим на распределение категориальных признаков\n",
        "categorical_columns = bsm_data_train.select_dtypes(include=['object']).columns\n",
        "for column in categorical_columns:\n",
        "    print(f'Распределение значений в столбце {column}:')\n",
        "    print(bsm_data_train[column].value_counts())"
      ],
      "metadata": {
        "colab": {
          "base_uri": "https://localhost:8080/"
        },
        "id": "Pv4NNCiloblI",
        "outputId": "ef44ffd7-ff6d-410d-e706-103fd3cbc909"
      },
      "execution_count": 8,
      "outputs": [
        {
          "output_type": "stream",
          "name": "stdout",
          "text": [
            "   ident_bag       i_id                       pax_id_hash  \\\n",
            "0   62562416  8628981.0  dcd856b334b9685c4f21afa67f3ddc70   \n",
            "1   62571791  8628981.0  dcd856b334b9685c4f21afa67f3ddc70   \n",
            "2   62553945  8629051.0  f2b931876cac089c6a02af1b70d08c61   \n",
            "3   62553945  8629051.0  f2b931876cac089c6a02af1b70d08c61   \n",
            "4   62574680  8629296.0  2e3291401628ca69061c49b3319793a1   \n",
            "\n",
            "       MessageReceivedDate     MessageProcessedDate                DateEvent  \\\n",
            "0  2023-07-01 06:53:34.413  2023-07-01 06:53:37.720  2023-07-01 06:53:37.717   \n",
            "1  2023-07-01 06:53:24.603  2023-07-01 06:53:28.590  2023-07-01 06:53:28.577   \n",
            "2  2023-07-01 06:59:56.263  2023-07-01 06:59:59.610  2023-07-01 06:59:59.607   \n",
            "3  2023-07-01 06:59:57.083  2023-07-01 06:59:59.750  2023-07-01 06:59:59.747   \n",
            "4  2023-07-01 14:34:52.870  2023-07-01 14:34:55.547  2023-07-01 14:34:55.543   \n",
            "\n",
            "    TagNumber local_or_transfer  \n",
            "0  2425399448                 L  \n",
            "1  2425388102                 L  \n",
            "2  3555170959                 L  \n",
            "3  3555170959                 L  \n",
            "4  2316437470                 L  \n",
            "<class 'pandas.core.frame.DataFrame'>\n",
            "RangeIndex: 2090181 entries, 0 to 2090180\n",
            "Data columns (total 8 columns):\n",
            " #   Column                Dtype  \n",
            "---  ------                -----  \n",
            " 0   ident_bag             int64  \n",
            " 1   i_id                  float64\n",
            " 2   pax_id_hash           object \n",
            " 3   MessageReceivedDate   object \n",
            " 4   MessageProcessedDate  object \n",
            " 5   DateEvent             object \n",
            " 6   TagNumber             int64  \n",
            " 7   local_or_transfer     object \n",
            "dtypes: float64(1), int64(2), object(5)\n",
            "memory usage: 127.6+ MB\n",
            "None\n",
            "ident_bag               0\n",
            "i_id                    0\n",
            "pax_id_hash             0\n",
            "MessageReceivedDate     0\n",
            "MessageProcessedDate    0\n",
            "DateEvent               0\n",
            "TagNumber               0\n",
            "local_or_transfer       0\n",
            "dtype: int64\n",
            "          ident_bag          i_id     TagNumber\n",
            "count  2.090181e+06  2.090181e+06  2.090181e+06\n",
            "mean   6.359271e+07  8.657848e+06  8.318558e+08\n",
            "std    5.895485e+05  1.718937e+04  1.203880e+09\n",
            "min    6.249000e+07  8.628855e+06  1.000000e+00\n",
            "25%    6.308032e+07  8.642827e+06  5.550701e+08\n",
            "50%    6.359134e+07  8.657651e+06  5.553812e+08\n",
            "75%    6.410426e+07  8.672753e+06  5.557678e+08\n",
            "max    6.461616e+07  8.701701e+06  9.910197e+09\n",
            "Уникальных значений в столбце ident_bag: 1989376\n",
            "Уникальных значений в столбце i_id: 23992\n",
            "Уникальных значений в столбце pax_id_hash: 1806228\n",
            "Уникальных значений в столбце MessageReceivedDate: 2061835\n",
            "Уникальных значений в столбце MessageProcessedDate: 2082542\n",
            "Уникальных значений в столбце DateEvent: 2090180\n",
            "Уникальных значений в столбце TagNumber: 1371369\n",
            "Уникальных значений в столбце local_or_transfer: 2\n",
            "Распределение значений в столбце pax_id_hash:\n",
            "8bbdee225a9b8672a72bb19dfddee971    10\n",
            "a99c6ffd610f78f248fabcc861710dae    10\n",
            "489c1bf9bfaddf18f7ad52ec40c5fd15    10\n",
            "49a0dd30848b5c8c223333bc1ac79e5a    10\n",
            "3077cee2e3f9651ae0c0550fbabee0a7    10\n",
            "                                    ..\n",
            "75cc30279666f7862cdba85573de6f57     1\n",
            "27cbdd5f3027ac5106e91f4d00b21696     1\n",
            "9a4ebca0ffde1f8c6b3102c888e1f7a3     1\n",
            "9ff4b0d0ffbf21c090b8d3e251364c4b     1\n",
            "e00a871c3291782beb9de879fa5bcf71     1\n",
            "Name: pax_id_hash, Length: 1806228, dtype: int64\n",
            "Распределение значений в столбце MessageReceivedDate:\n",
            "2023-07-18 18:12:31.077    9\n",
            "2023-08-25 10:02:37.610    6\n",
            "2023-08-31 07:19:35.150    6\n",
            "2023-08-12 09:17:00.540    6\n",
            "2023-07-29 11:20:28.607    5\n",
            "                          ..\n",
            "2023-07-21 14:26:29.603    1\n",
            "2023-07-21 14:26:26.303    1\n",
            "2023-07-21 14:26:23.440    1\n",
            "2023-07-21 14:26:23.847    1\n",
            "2023-08-31 23:59:56.857    1\n",
            "Name: MessageReceivedDate, Length: 2061835, dtype: int64\n",
            "Распределение значений в столбце MessageProcessedDate:\n",
            "2023-07-02 18:29:49.750    5\n",
            "2023-08-26 14:07:04.817    5\n",
            "2023-07-29 10:32:05.847    5\n",
            "2023-08-31 07:08:20.217    5\n",
            "2023-08-29 05:51:01.340    5\n",
            "                          ..\n",
            "2023-07-21 10:48:58.850    1\n",
            "2023-07-21 10:48:54.813    1\n",
            "2023-07-21 10:48:46.970    1\n",
            "2023-07-21 10:48:35.397    1\n",
            "2023-08-31 23:59:57.547    1\n",
            "Name: MessageProcessedDate, Length: 2082542, dtype: int64\n",
            "Распределение значений в столбце DateEvent:\n",
            "2023-08-21 06:23:10.230    2\n",
            "2023-07-01 06:53:37.717    1\n",
            "2023-08-11 12:45:29.230    1\n",
            "2023-08-11 12:45:57.683    1\n",
            "2023-08-11 12:45:53.763    1\n",
            "                          ..\n",
            "2023-07-21 10:02:16.260    1\n",
            "2023-07-21 10:02:16.207    1\n",
            "2023-07-21 10:02:16.143    1\n",
            "2023-07-21 10:02:16.097    1\n",
            "2023-08-31 23:59:57.543    1\n",
            "Name: DateEvent, Length: 2090180, dtype: int64\n",
            "Распределение значений в столбце local_or_transfer:\n",
            "L    1701404\n",
            "T     388777\n",
            "Name: local_or_transfer, dtype: int64\n"
          ]
        }
      ]
    },
    {
      "cell_type": "code",
      "source": [
        "# Преобразование столбцов с датами в тип datetime\n",
        "date_columns = ['MessageReceivedDate', 'MessageProcessedDate', 'DateEvent']\n",
        "for column in date_columns:\n",
        "    bsm_data_train[column] = pd.to_datetime(bsm_data_train[column])\n",
        "\n",
        "# Проверим, что преобразование прошло успешно\n",
        "print(bsm_data_train.info())"
      ],
      "metadata": {
        "colab": {
          "base_uri": "https://localhost:8080/"
        },
        "id": "smLZQaXLpDr_",
        "outputId": "7c546fa7-a2be-4ec0-f82f-9f90aac1fb95"
      },
      "execution_count": 9,
      "outputs": [
        {
          "output_type": "stream",
          "name": "stdout",
          "text": [
            "<class 'pandas.core.frame.DataFrame'>\n",
            "RangeIndex: 2090181 entries, 0 to 2090180\n",
            "Data columns (total 8 columns):\n",
            " #   Column                Dtype         \n",
            "---  ------                -----         \n",
            " 0   ident_bag             int64         \n",
            " 1   i_id                  float64       \n",
            " 2   pax_id_hash           object        \n",
            " 3   MessageReceivedDate   datetime64[ns]\n",
            " 4   MessageProcessedDate  datetime64[ns]\n",
            " 5   DateEvent             datetime64[ns]\n",
            " 6   TagNumber             int64         \n",
            " 7   local_or_transfer     object        \n",
            "dtypes: datetime64[ns](3), float64(1), int64(2), object(2)\n",
            "memory usage: 127.6+ MB\n",
            "None\n"
          ]
        }
      ]
    }
  ]
}