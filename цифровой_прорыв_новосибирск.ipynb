{
  "nbformat": 4,
  "nbformat_minor": 0,
  "metadata": {
    "colab": {
      "provenance": [],
      "mount_file_id": "1cKIS8lyQ62TttZ4aL1ccvI9DFW0C8P0b",
      "authorship_tag": "ABX9TyPOWLg6yAYfRRl8Y1XF536W",
      "include_colab_link": true
    },
    "kernelspec": {
      "name": "python3",
      "display_name": "Python 3"
    },
    "language_info": {
      "name": "python"
    }
  },
  "cells": [
    {
      "cell_type": "markdown",
      "metadata": {
        "id": "view-in-github",
        "colab_type": "text"
      },
      "source": [
        "<a href=\"https://colab.research.google.com/github/JohnSili/NovosibCFP/blob/main/%D1%86%D0%B8%D1%84%D1%80%D0%BE%D0%B2%D0%BE%D0%B9_%D0%BF%D1%80%D0%BE%D1%80%D1%8B%D0%B2_%D0%BD%D0%BE%D0%B2%D0%BE%D1%81%D0%B8%D0%B1%D0%B8%D1%80%D1%81%D0%BA.ipynb\" target=\"_parent\"><img src=\"https://colab.research.google.com/assets/colab-badge.svg\" alt=\"Open In Colab\"/></a>"
      ]
    },
    {
      "cell_type": "code",
      "execution_count": 1,
      "metadata": {
        "id": "hIriQgCoL1c1",
        "colab": {
          "base_uri": "https://localhost:8080/"
        },
        "outputId": "3de615ea-ae8b-4b7c-b42e-d775475eed7a"
      },
      "outputs": [
        {
          "output_type": "stream",
          "name": "stdout",
          "text": [
            "Mounted at /content/drive\n"
          ]
        }
      ],
      "source": [
        "from google.colab import drive\n",
        "drive.mount('/content/drive')"
      ]
    },
    {
      "cell_type": "code",
      "source": [
        "import pandas as pd\n",
        "df = pd.read_csv('/content/drive/MyDrive/train_dataset_luggage/bsm_data_train.csv')"
      ],
      "metadata": {
        "id": "CitgroeAisje"
      },
      "execution_count": 2,
      "outputs": []
    },
    {
      "cell_type": "code",
      "source": [
        "import pandas as pd\n",
        "\n",
        "# Загрузка данных о потоке BSM\n",
        "bsm_data_train = pd.read_csv('/content/drive/MyDrive/train_dataset_luggage/bsm_data_train.csv')\n",
        "\n",
        "# Загрузка данных о расписании рейсов\n",
        "flight_rasp_data = pd.read_csv('/content/drive/MyDrive/train_dataset_luggage/flight_rasp_data.csv')\n",
        "\n",
        "# Загрузка данных о прогнозе прибытия\n",
        "arrival_profile_data = pd.read_csv('/content/drive/MyDrive/train_dataset_luggage/arrival_profile_data.csv')\n",
        "arrival_profile_value = pd.read_csv('/content/drive/MyDrive/train_dataset_luggage/arrival_profile_value.csv')"
      ],
      "metadata": {
        "id": "aVNEM_RVjQYM"
      },
      "execution_count": 7,
      "outputs": []
    },
    {
      "cell_type": "code",
      "source": [
        "# Объединение по i_id\n",
        "combined_data = pd.merge(bsm_data_train, flight_rasp_data, on='i_id', how='inner')"
      ],
      "metadata": {
        "id": "9EdREejpc7Jv"
      },
      "execution_count": 37,
      "outputs": []
    },
    {
      "cell_type": "code",
      "source": [
        "# Преобразование в datetime\n",
        "combined_data['MessageReceivedDate'] = pd.to_datetime(combined_data['MessageReceivedDate'])\n",
        "combined_data['MessageProcessedDate'] = pd.to_datetime(combined_data['MessageProcessedDate'])\n",
        "\n",
        "# Вычисление разницы во времени\n",
        "#combined_data['TimeDifference'] = combined_data['MessageProcessedDate'] - combined_data['MessageReceivedDate']\n",
        "\n",
        "# Преобразование TimeDifference в секунды\n",
        "#combined_data['TimeDifferenceSeconds'] = combined_data['TimeDifference'].dt.total_seconds()\n",
        "\n",
        "# Расчет объема за минуту\n",
        "combined_data['VolumePerMinute'] = 60 / (combined_data['MessageProcessedDate'] - combined_data['MessageReceivedDate']).dt.total_seconds()\n",
        "\n",
        "# Вывод результата\n",
        "print(combined_data[['MessageReceivedDate', 'MessageProcessedDate', 'VolumePerMinute']])"
      ],
      "metadata": {
        "colab": {
          "base_uri": "https://localhost:8080/"
        },
        "id": "1ZkyAGSnevan",
        "outputId": "d30ea69b-bc26-4335-d5be-90cc8924cfbf"
      },
      "execution_count": 38,
      "outputs": [
        {
          "output_type": "stream",
          "name": "stdout",
          "text": [
            "            MessageReceivedDate    MessageProcessedDate  VolumePerMinute\n",
            "0       2023-07-01 06:53:34.413 2023-07-01 06:53:37.720        18.143332\n",
            "1       2023-07-01 06:53:24.603 2023-07-01 06:53:28.590        15.048909\n",
            "2       2023-07-01 04:31:58.227 2023-07-01 04:32:00.050        32.912781\n",
            "3       2023-07-01 04:36:45.607 2023-07-01 04:36:49.783        14.367816\n",
            "4       2023-07-01 04:38:30.500 2023-07-01 04:38:33.753        18.444513\n",
            "...                         ...                     ...              ...\n",
            "2088565 2023-08-31 23:57:31.547 2023-08-31 23:57:35.117        16.806723\n",
            "2088566 2023-08-31 23:59:53.600 2023-08-31 23:59:57.260        16.393443\n",
            "2088567 2023-08-31 23:58:03.420 2023-08-31 23:58:07.260        15.625000\n",
            "2088568 2023-08-31 23:58:48.437 2023-08-31 23:58:49.310        68.728522\n",
            "2088569 2023-08-31 23:59:05.537 2023-08-31 23:59:08.983        17.411492\n",
            "\n",
            "[2088570 rows x 3 columns]\n"
          ]
        }
      ]
    },
    {
      "cell_type": "code",
      "source": [
        "# Преобразование local_or_transfer в бинарный формат и создание нового столбца\n",
        "combined_data['local_or_transfer_binary'] = combined_data['local_or_transfer'].map({'L': 1, 'T': 0})\n",
        "# Удаление столбца 'local_or_transfer' с заменой\n",
        "combined_data.drop(columns=['local_or_transfer'], inplace=True)"
      ],
      "metadata": {
        "colab": {
          "base_uri": "https://localhost:8080/",
          "height": 533
        },
        "id": "f-LtJSVwdAq6",
        "outputId": "371b3ae8-32a7-4114-b10f-d5a1adc1b7f9"
      },
      "execution_count": 42,
      "outputs": [
        {
          "output_type": "error",
          "ename": "KeyError",
          "evalue": "ignored",
          "traceback": [
            "\u001b[0;31m---------------------------------------------------------------------------\u001b[0m",
            "\u001b[0;31mKeyError\u001b[0m                                  Traceback (most recent call last)",
            "\u001b[0;32m/usr/local/lib/python3.10/dist-packages/pandas/core/indexes/base.py\u001b[0m in \u001b[0;36mget_loc\u001b[0;34m(self, key, method, tolerance)\u001b[0m\n\u001b[1;32m   3801\u001b[0m             \u001b[0;32mtry\u001b[0m\u001b[0;34m:\u001b[0m\u001b[0;34m\u001b[0m\u001b[0;34m\u001b[0m\u001b[0m\n\u001b[0;32m-> 3802\u001b[0;31m                 \u001b[0;32mreturn\u001b[0m \u001b[0mself\u001b[0m\u001b[0;34m.\u001b[0m\u001b[0m_engine\u001b[0m\u001b[0;34m.\u001b[0m\u001b[0mget_loc\u001b[0m\u001b[0;34m(\u001b[0m\u001b[0mcasted_key\u001b[0m\u001b[0;34m)\u001b[0m\u001b[0;34m\u001b[0m\u001b[0;34m\u001b[0m\u001b[0m\n\u001b[0m\u001b[1;32m   3803\u001b[0m             \u001b[0;32mexcept\u001b[0m \u001b[0mKeyError\u001b[0m \u001b[0;32mas\u001b[0m \u001b[0merr\u001b[0m\u001b[0;34m:\u001b[0m\u001b[0;34m\u001b[0m\u001b[0;34m\u001b[0m\u001b[0m\n",
            "\u001b[0;32m/usr/local/lib/python3.10/dist-packages/pandas/_libs/index.pyx\u001b[0m in \u001b[0;36mpandas._libs.index.IndexEngine.get_loc\u001b[0;34m()\u001b[0m\n",
            "\u001b[0;32m/usr/local/lib/python3.10/dist-packages/pandas/_libs/index.pyx\u001b[0m in \u001b[0;36mpandas._libs.index.IndexEngine.get_loc\u001b[0;34m()\u001b[0m\n",
            "\u001b[0;32mpandas/_libs/hashtable_class_helper.pxi\u001b[0m in \u001b[0;36mpandas._libs.hashtable.PyObjectHashTable.get_item\u001b[0;34m()\u001b[0m\n",
            "\u001b[0;32mpandas/_libs/hashtable_class_helper.pxi\u001b[0m in \u001b[0;36mpandas._libs.hashtable.PyObjectHashTable.get_item\u001b[0;34m()\u001b[0m\n",
            "\u001b[0;31mKeyError\u001b[0m: 'local_or_transfer'",
            "\nThe above exception was the direct cause of the following exception:\n",
            "\u001b[0;31mKeyError\u001b[0m                                  Traceback (most recent call last)",
            "\u001b[0;32m<ipython-input-42-82fa9fa37807>\u001b[0m in \u001b[0;36m<cell line: 2>\u001b[0;34m()\u001b[0m\n\u001b[1;32m      1\u001b[0m \u001b[0;31m# Преобразование local_or_transfer в бинарный формат и создание нового столбца\u001b[0m\u001b[0;34m\u001b[0m\u001b[0;34m\u001b[0m\u001b[0m\n\u001b[0;32m----> 2\u001b[0;31m \u001b[0mcombined_data\u001b[0m\u001b[0;34m[\u001b[0m\u001b[0;34m'local_or_transfer_binary'\u001b[0m\u001b[0;34m]\u001b[0m \u001b[0;34m=\u001b[0m \u001b[0mcombined_data\u001b[0m\u001b[0;34m[\u001b[0m\u001b[0;34m'local_or_transfer'\u001b[0m\u001b[0;34m]\u001b[0m\u001b[0;34m.\u001b[0m\u001b[0mmap\u001b[0m\u001b[0;34m(\u001b[0m\u001b[0;34m{\u001b[0m\u001b[0;34m'L'\u001b[0m\u001b[0;34m:\u001b[0m \u001b[0;36m1\u001b[0m\u001b[0;34m,\u001b[0m \u001b[0;34m'T'\u001b[0m\u001b[0;34m:\u001b[0m \u001b[0;36m0\u001b[0m\u001b[0;34m}\u001b[0m\u001b[0;34m)\u001b[0m\u001b[0;34m\u001b[0m\u001b[0;34m\u001b[0m\u001b[0m\n\u001b[0m\u001b[1;32m      3\u001b[0m \u001b[0;34m\u001b[0m\u001b[0m\n\u001b[1;32m      4\u001b[0m \u001b[0;31m# Удаление столбца 'local_or_transfer' с заменой\u001b[0m\u001b[0;34m\u001b[0m\u001b[0;34m\u001b[0m\u001b[0m\n\u001b[1;32m      5\u001b[0m \u001b[0mcombined_data\u001b[0m\u001b[0;34m.\u001b[0m\u001b[0mdrop\u001b[0m\u001b[0;34m(\u001b[0m\u001b[0mcolumns\u001b[0m\u001b[0;34m=\u001b[0m\u001b[0;34m[\u001b[0m\u001b[0;34m'local_or_transfer'\u001b[0m\u001b[0;34m]\u001b[0m\u001b[0;34m,\u001b[0m \u001b[0minplace\u001b[0m\u001b[0;34m=\u001b[0m\u001b[0;32mTrue\u001b[0m\u001b[0;34m)\u001b[0m\u001b[0;34m\u001b[0m\u001b[0;34m\u001b[0m\u001b[0m\n",
            "\u001b[0;32m/usr/local/lib/python3.10/dist-packages/pandas/core/frame.py\u001b[0m in \u001b[0;36m__getitem__\u001b[0;34m(self, key)\u001b[0m\n\u001b[1;32m   3805\u001b[0m             \u001b[0;32mif\u001b[0m \u001b[0mself\u001b[0m\u001b[0;34m.\u001b[0m\u001b[0mcolumns\u001b[0m\u001b[0;34m.\u001b[0m\u001b[0mnlevels\u001b[0m \u001b[0;34m>\u001b[0m \u001b[0;36m1\u001b[0m\u001b[0;34m:\u001b[0m\u001b[0;34m\u001b[0m\u001b[0;34m\u001b[0m\u001b[0m\n\u001b[1;32m   3806\u001b[0m                 \u001b[0;32mreturn\u001b[0m \u001b[0mself\u001b[0m\u001b[0;34m.\u001b[0m\u001b[0m_getitem_multilevel\u001b[0m\u001b[0;34m(\u001b[0m\u001b[0mkey\u001b[0m\u001b[0;34m)\u001b[0m\u001b[0;34m\u001b[0m\u001b[0;34m\u001b[0m\u001b[0m\n\u001b[0;32m-> 3807\u001b[0;31m             \u001b[0mindexer\u001b[0m \u001b[0;34m=\u001b[0m \u001b[0mself\u001b[0m\u001b[0;34m.\u001b[0m\u001b[0mcolumns\u001b[0m\u001b[0;34m.\u001b[0m\u001b[0mget_loc\u001b[0m\u001b[0;34m(\u001b[0m\u001b[0mkey\u001b[0m\u001b[0;34m)\u001b[0m\u001b[0;34m\u001b[0m\u001b[0;34m\u001b[0m\u001b[0m\n\u001b[0m\u001b[1;32m   3808\u001b[0m             \u001b[0;32mif\u001b[0m \u001b[0mis_integer\u001b[0m\u001b[0;34m(\u001b[0m\u001b[0mindexer\u001b[0m\u001b[0;34m)\u001b[0m\u001b[0;34m:\u001b[0m\u001b[0;34m\u001b[0m\u001b[0;34m\u001b[0m\u001b[0m\n\u001b[1;32m   3809\u001b[0m                 \u001b[0mindexer\u001b[0m \u001b[0;34m=\u001b[0m \u001b[0;34m[\u001b[0m\u001b[0mindexer\u001b[0m\u001b[0;34m]\u001b[0m\u001b[0;34m\u001b[0m\u001b[0;34m\u001b[0m\u001b[0m\n",
            "\u001b[0;32m/usr/local/lib/python3.10/dist-packages/pandas/core/indexes/base.py\u001b[0m in \u001b[0;36mget_loc\u001b[0;34m(self, key, method, tolerance)\u001b[0m\n\u001b[1;32m   3802\u001b[0m                 \u001b[0;32mreturn\u001b[0m \u001b[0mself\u001b[0m\u001b[0;34m.\u001b[0m\u001b[0m_engine\u001b[0m\u001b[0;34m.\u001b[0m\u001b[0mget_loc\u001b[0m\u001b[0;34m(\u001b[0m\u001b[0mcasted_key\u001b[0m\u001b[0;34m)\u001b[0m\u001b[0;34m\u001b[0m\u001b[0;34m\u001b[0m\u001b[0m\n\u001b[1;32m   3803\u001b[0m             \u001b[0;32mexcept\u001b[0m \u001b[0mKeyError\u001b[0m \u001b[0;32mas\u001b[0m \u001b[0merr\u001b[0m\u001b[0;34m:\u001b[0m\u001b[0;34m\u001b[0m\u001b[0;34m\u001b[0m\u001b[0m\n\u001b[0;32m-> 3804\u001b[0;31m                 \u001b[0;32mraise\u001b[0m \u001b[0mKeyError\u001b[0m\u001b[0;34m(\u001b[0m\u001b[0mkey\u001b[0m\u001b[0;34m)\u001b[0m \u001b[0;32mfrom\u001b[0m \u001b[0merr\u001b[0m\u001b[0;34m\u001b[0m\u001b[0;34m\u001b[0m\u001b[0m\n\u001b[0m\u001b[1;32m   3805\u001b[0m             \u001b[0;32mexcept\u001b[0m \u001b[0mTypeError\u001b[0m\u001b[0;34m:\u001b[0m\u001b[0;34m\u001b[0m\u001b[0;34m\u001b[0m\u001b[0m\n\u001b[1;32m   3806\u001b[0m                 \u001b[0;31m# If we have a listlike key, _check_indexing_error will raise\u001b[0m\u001b[0;34m\u001b[0m\u001b[0;34m\u001b[0m\u001b[0m\n",
            "\u001b[0;31mKeyError\u001b[0m: 'local_or_transfer'"
          ]
        }
      ]
    },
    {
      "cell_type": "code",
      "source": [
        "combined_data['ReceivedHour'] = combined_data['MessageReceivedDate'].dt.hour\n",
        "combined_data['ReceivedMinute'] = combined_data['MessageReceivedDate'].dt.minute"
      ],
      "metadata": {
        "id": "iDiRnzIfhDL2"
      },
      "execution_count": 44,
      "outputs": []
    },
    {
      "cell_type": "code",
      "source": [
        "# Вывод результата\n",
        "print(combined_data)"
      ],
      "metadata": {
        "colab": {
          "base_uri": "https://localhost:8080/"
        },
        "id": "QTJ9HVQogtDS",
        "outputId": "63975fab-aa2c-4a2e-87c3-5f03cc488844"
      },
      "execution_count": 45,
      "outputs": [
        {
          "output_type": "stream",
          "name": "stdout",
          "text": [
            "         ident_bag       i_id                       pax_id_hash  \\\n",
            "0         62562416  8628981.0  dcd856b334b9685c4f21afa67f3ddc70   \n",
            "1         62571791  8628981.0  dcd856b334b9685c4f21afa67f3ddc70   \n",
            "2         62585837  8628981.0  d1deb9ad74e154bd45625253d3192aec   \n",
            "3         62585932  8628981.0  edfb80134c7e09bc74dfeead90097018   \n",
            "4         62585968  8628981.0  a784df5b95726a8e444007c37de942fc   \n",
            "...            ...        ...                               ...   \n",
            "2088565   64616074  8687786.0  6ed0e41f175ef54a9b06f0dbab62e870   \n",
            "2088566   64616154  8687786.0  2acb4b86315d6e49efc0a824b3cba80d   \n",
            "2088567   64616089  8688103.0  5b4f3c75a82c28ce36d749c0700961fd   \n",
            "2088568   64616120  8688009.0  57c41ae0d13db348152d36f661633ff8   \n",
            "2088569   64616130  8688009.0  8a8a644086752ab32e056550927b7996   \n",
            "\n",
            "            MessageReceivedDate    MessageProcessedDate  \\\n",
            "0       2023-07-01 06:53:34.413 2023-07-01 06:53:37.720   \n",
            "1       2023-07-01 06:53:24.603 2023-07-01 06:53:28.590   \n",
            "2       2023-07-01 04:31:58.227 2023-07-01 04:32:00.050   \n",
            "3       2023-07-01 04:36:45.607 2023-07-01 04:36:49.783   \n",
            "4       2023-07-01 04:38:30.500 2023-07-01 04:38:33.753   \n",
            "...                         ...                     ...   \n",
            "2088565 2023-08-31 23:57:31.547 2023-08-31 23:57:35.117   \n",
            "2088566 2023-08-31 23:59:53.600 2023-08-31 23:59:57.260   \n",
            "2088567 2023-08-31 23:58:03.420 2023-08-31 23:58:07.260   \n",
            "2088568 2023-08-31 23:58:48.437 2023-08-31 23:58:49.310   \n",
            "2088569 2023-08-31 23:59:05.537 2023-08-31 23:59:08.983   \n",
            "\n",
            "                       DateEvent   TagNumber departure_terminal  \\\n",
            "0        2023-07-01 06:53:37.717  2425399448                  B   \n",
            "1        2023-07-01 06:53:28.577  2425388102                  B   \n",
            "2        2023-07-01 04:32:00.050   425411640                  B   \n",
            "3        2023-07-01 04:36:49.780   425411641                  B   \n",
            "4        2023-07-01 04:38:33.743   425411642                  B   \n",
            "...                          ...         ...                ...   \n",
            "2088565  2023-08-31 23:57:35.113  5115349914                  C   \n",
            "2088566  2023-08-31 23:59:57.257  7115420782                  C   \n",
            "2088567  2023-08-31 23:58:07.253   555433908                  B   \n",
            "2088568  2023-08-31 23:58:49.307   555256543                  B   \n",
            "2088569  2023-08-31 23:59:08.980   555256544                  B   \n",
            "\n",
            "        checkin_terminal              airline_grouped_hash  \\\n",
            "0                      C  e2fca8135c2fadca093abd79a6b1c0d2   \n",
            "1                      C  e2fca8135c2fadca093abd79a6b1c0d2   \n",
            "2                      C  e2fca8135c2fadca093abd79a6b1c0d2   \n",
            "3                      C  e2fca8135c2fadca093abd79a6b1c0d2   \n",
            "4                      C  e2fca8135c2fadca093abd79a6b1c0d2   \n",
            "...                  ...                               ...   \n",
            "2088565                C  1af89fed0bc8bd12f596dd0bc5507bde   \n",
            "2088566                C  1af89fed0bc8bd12f596dd0bc5507bde   \n",
            "2088567                B  7bac920cc30511dfb81ca2242b293990   \n",
            "2088568                B  7bac920cc30511dfb81ca2242b293990   \n",
            "2088569                B  7bac920cc30511dfb81ca2242b293990   \n",
            "\n",
            "                                 cco_hash                          flt_hash  \\\n",
            "0        e2fca8135c2fadca093abd79a6b1c0d2  271f17707d8bfd2cd45f7e5182298703   \n",
            "1        e2fca8135c2fadca093abd79a6b1c0d2  271f17707d8bfd2cd45f7e5182298703   \n",
            "2        e2fca8135c2fadca093abd79a6b1c0d2  271f17707d8bfd2cd45f7e5182298703   \n",
            "3        e2fca8135c2fadca093abd79a6b1c0d2  271f17707d8bfd2cd45f7e5182298703   \n",
            "4        e2fca8135c2fadca093abd79a6b1c0d2  271f17707d8bfd2cd45f7e5182298703   \n",
            "...                                   ...                               ...   \n",
            "2088565  1af89fed0bc8bd12f596dd0bc5507bde  3d2d8ccb37df977cb6d9da15b76c3f3a   \n",
            "2088566  1af89fed0bc8bd12f596dd0bc5507bde  3d2d8ccb37df977cb6d9da15b76c3f3a   \n",
            "2088567  f7adf0ba18d705092fa0a1e2f2c0bafb  fed33392d3a48aa149a87a38b875ba4a   \n",
            "2088568  f7adf0ba18d705092fa0a1e2f2c0bafb  0e51011a4c4891e5c01c12d85c4dcaa7   \n",
            "2088569  f7adf0ba18d705092fa0a1e2f2c0bafb  0e51011a4c4891e5c01c12d85c4dcaa7   \n",
            "\n",
            "                        t_st m_city_rus1      m_city_rus2  config  \\\n",
            "0        2023-07-01 07:30:00      Москва            Магас     189   \n",
            "1        2023-07-01 07:30:00      Москва            Магас     189   \n",
            "2        2023-07-01 07:30:00      Москва            Магас     189   \n",
            "3        2023-07-01 07:30:00      Москва            Магас     189   \n",
            "4        2023-07-01 07:30:00      Москва            Магас     189   \n",
            "...                      ...         ...              ...     ...   \n",
            "2088565  2023-09-01 02:55:00      Москва          Белград     138   \n",
            "2088566  2023-09-01 02:55:00      Москва          Белград     138   \n",
            "2088567  2023-09-01 13:35:00      Москва      Калининград     183   \n",
            "2088568  2023-09-01 10:40:00      Москва  Санкт-Петербург     158   \n",
            "2088569  2023-09-01 10:40:00      Москва  Санкт-Петербург     158   \n",
            "\n",
            "         VolumePerMinute  local_or_transfer_binary  ReceivedHour  \\\n",
            "0              18.143332                         1             6   \n",
            "1              15.048909                         1             6   \n",
            "2              32.912781                         1             4   \n",
            "3              14.367816                         1             4   \n",
            "4              18.444513                         1             4   \n",
            "...                  ...                       ...           ...   \n",
            "2088565        16.806723                         1            23   \n",
            "2088566        16.393443                         1            23   \n",
            "2088567        15.625000                         0            23   \n",
            "2088568        68.728522                         0            23   \n",
            "2088569        17.411492                         0            23   \n",
            "\n",
            "         ReceivedMinute  \n",
            "0                    53  \n",
            "1                    53  \n",
            "2                    31  \n",
            "3                    36  \n",
            "4                    38  \n",
            "...                 ...  \n",
            "2088565              57  \n",
            "2088566              59  \n",
            "2088567              58  \n",
            "2088568              58  \n",
            "2088569              59  \n",
            "\n",
            "[2088570 rows x 20 columns]\n"
          ]
        }
      ]
    },
    {
      "cell_type": "code",
      "source": [
        "arrival_profile_data.iloc[105888]"
      ],
      "metadata": {
        "colab": {
          "base_uri": "https://localhost:8080/"
        },
        "id": "J1O1SPyCjQLN",
        "outputId": "1d77be75-1014-40c2-ae96-505c04931afc"
      },
      "execution_count": 48,
      "outputs": [
        {
          "output_type": "execute_result",
          "data": {
            "text/plain": [
              "ts                         2023-07-01 00:00:00.000 +0300\n",
              "checkin_terminal                                       B\n",
              "airline_grouped_hash    189888be7b940befd5d3acecb01c5f33\n",
              "pax_arrival_profile                                  0.0\n",
              "Name: 105888, dtype: object"
            ]
          },
          "metadata": {},
          "execution_count": 48
        }
      ]
    },
    {
      "cell_type": "code",
      "source": [
        "numeric_features = combined_data.select_dtypes(include=['float64', 'int64'])\n",
        "print(numeric_features)"
      ],
      "metadata": {
        "colab": {
          "base_uri": "https://localhost:8080/"
        },
        "id": "1QTtc6nYd3eo",
        "outputId": "650c38fe-efaf-4c09-e669-ae465c8d4fc1"
      },
      "execution_count": 39,
      "outputs": [
        {
          "output_type": "stream",
          "name": "stdout",
          "text": [
            "         ident_bag       i_id   TagNumber  config  VolumePerMinute\n",
            "0         62562416  8628981.0  2425399448     189        18.143332\n",
            "1         62571791  8628981.0  2425388102     189        15.048909\n",
            "2         62585837  8628981.0   425411640     189        32.912781\n",
            "3         62585932  8628981.0   425411641     189        14.367816\n",
            "4         62585968  8628981.0   425411642     189        18.444513\n",
            "...            ...        ...         ...     ...              ...\n",
            "2088565   64616074  8687786.0  5115349914     138        16.806723\n",
            "2088566   64616154  8687786.0  7115420782     138        16.393443\n",
            "2088567   64616089  8688103.0   555433908     183        15.625000\n",
            "2088568   64616120  8688009.0   555256543     158        68.728522\n",
            "2088569   64616130  8688009.0   555256544     158        17.411492\n",
            "\n",
            "[2088570 rows x 5 columns]\n"
          ]
        }
      ]
    },
    {
      "cell_type": "code",
      "source": [
        "# Посмотрим на первые несколько строк данных\n",
        "print(bsm_data_train.head())\n",
        "\n",
        "# Проверим общую информацию о данных\n",
        "print(bsm_data_train.info())\n",
        "\n",
        "# Проверим наличие пропущенных значений\n",
        "print(bsm_data_train.isnull().sum())\n",
        "\n",
        "# Статистика по числовым признакам\n",
        "print(bsm_data_train.describe())\n",
        "\n",
        "# Уникальные значения в каждом столбце\n",
        "for column in bsm_data_train.columns:\n",
        "    unique_values = bsm_data_train[column].nunique()\n",
        "    print(f'Уникальных значений в столбце {column}: {unique_values}')\n",
        "\n",
        "# Посмотрим на распределение категориальных признаков\n",
        "categorical_columns = bsm_data_train.select_dtypes(include=['object']).columns\n",
        "for column in categorical_columns:\n",
        "    print(f'Распределение значений в столбце {column}:')\n",
        "    print(bsm_data_train[column].value_counts())"
      ],
      "metadata": {
        "colab": {
          "base_uri": "https://localhost:8080/"
        },
        "id": "Pv4NNCiloblI",
        "outputId": "ef44ffd7-ff6d-410d-e706-103fd3cbc909"
      },
      "execution_count": 8,
      "outputs": [
        {
          "output_type": "stream",
          "name": "stdout",
          "text": [
            "   ident_bag       i_id                       pax_id_hash  \\\n",
            "0   62562416  8628981.0  dcd856b334b9685c4f21afa67f3ddc70   \n",
            "1   62571791  8628981.0  dcd856b334b9685c4f21afa67f3ddc70   \n",
            "2   62553945  8629051.0  f2b931876cac089c6a02af1b70d08c61   \n",
            "3   62553945  8629051.0  f2b931876cac089c6a02af1b70d08c61   \n",
            "4   62574680  8629296.0  2e3291401628ca69061c49b3319793a1   \n",
            "\n",
            "       MessageReceivedDate     MessageProcessedDate                DateEvent  \\\n",
            "0  2023-07-01 06:53:34.413  2023-07-01 06:53:37.720  2023-07-01 06:53:37.717   \n",
            "1  2023-07-01 06:53:24.603  2023-07-01 06:53:28.590  2023-07-01 06:53:28.577   \n",
            "2  2023-07-01 06:59:56.263  2023-07-01 06:59:59.610  2023-07-01 06:59:59.607   \n",
            "3  2023-07-01 06:59:57.083  2023-07-01 06:59:59.750  2023-07-01 06:59:59.747   \n",
            "4  2023-07-01 14:34:52.870  2023-07-01 14:34:55.547  2023-07-01 14:34:55.543   \n",
            "\n",
            "    TagNumber local_or_transfer  \n",
            "0  2425399448                 L  \n",
            "1  2425388102                 L  \n",
            "2  3555170959                 L  \n",
            "3  3555170959                 L  \n",
            "4  2316437470                 L  \n",
            "<class 'pandas.core.frame.DataFrame'>\n",
            "RangeIndex: 2090181 entries, 0 to 2090180\n",
            "Data columns (total 8 columns):\n",
            " #   Column                Dtype  \n",
            "---  ------                -----  \n",
            " 0   ident_bag             int64  \n",
            " 1   i_id                  float64\n",
            " 2   pax_id_hash           object \n",
            " 3   MessageReceivedDate   object \n",
            " 4   MessageProcessedDate  object \n",
            " 5   DateEvent             object \n",
            " 6   TagNumber             int64  \n",
            " 7   local_or_transfer     object \n",
            "dtypes: float64(1), int64(2), object(5)\n",
            "memory usage: 127.6+ MB\n",
            "None\n",
            "ident_bag               0\n",
            "i_id                    0\n",
            "pax_id_hash             0\n",
            "MessageReceivedDate     0\n",
            "MessageProcessedDate    0\n",
            "DateEvent               0\n",
            "TagNumber               0\n",
            "local_or_transfer       0\n",
            "dtype: int64\n",
            "          ident_bag          i_id     TagNumber\n",
            "count  2.090181e+06  2.090181e+06  2.090181e+06\n",
            "mean   6.359271e+07  8.657848e+06  8.318558e+08\n",
            "std    5.895485e+05  1.718937e+04  1.203880e+09\n",
            "min    6.249000e+07  8.628855e+06  1.000000e+00\n",
            "25%    6.308032e+07  8.642827e+06  5.550701e+08\n",
            "50%    6.359134e+07  8.657651e+06  5.553812e+08\n",
            "75%    6.410426e+07  8.672753e+06  5.557678e+08\n",
            "max    6.461616e+07  8.701701e+06  9.910197e+09\n",
            "Уникальных значений в столбце ident_bag: 1989376\n",
            "Уникальных значений в столбце i_id: 23992\n",
            "Уникальных значений в столбце pax_id_hash: 1806228\n",
            "Уникальных значений в столбце MessageReceivedDate: 2061835\n",
            "Уникальных значений в столбце MessageProcessedDate: 2082542\n",
            "Уникальных значений в столбце DateEvent: 2090180\n",
            "Уникальных значений в столбце TagNumber: 1371369\n",
            "Уникальных значений в столбце local_or_transfer: 2\n",
            "Распределение значений в столбце pax_id_hash:\n",
            "8bbdee225a9b8672a72bb19dfddee971    10\n",
            "a99c6ffd610f78f248fabcc861710dae    10\n",
            "489c1bf9bfaddf18f7ad52ec40c5fd15    10\n",
            "49a0dd30848b5c8c223333bc1ac79e5a    10\n",
            "3077cee2e3f9651ae0c0550fbabee0a7    10\n",
            "                                    ..\n",
            "75cc30279666f7862cdba85573de6f57     1\n",
            "27cbdd5f3027ac5106e91f4d00b21696     1\n",
            "9a4ebca0ffde1f8c6b3102c888e1f7a3     1\n",
            "9ff4b0d0ffbf21c090b8d3e251364c4b     1\n",
            "e00a871c3291782beb9de879fa5bcf71     1\n",
            "Name: pax_id_hash, Length: 1806228, dtype: int64\n",
            "Распределение значений в столбце MessageReceivedDate:\n",
            "2023-07-18 18:12:31.077    9\n",
            "2023-08-25 10:02:37.610    6\n",
            "2023-08-31 07:19:35.150    6\n",
            "2023-08-12 09:17:00.540    6\n",
            "2023-07-29 11:20:28.607    5\n",
            "                          ..\n",
            "2023-07-21 14:26:29.603    1\n",
            "2023-07-21 14:26:26.303    1\n",
            "2023-07-21 14:26:23.440    1\n",
            "2023-07-21 14:26:23.847    1\n",
            "2023-08-31 23:59:56.857    1\n",
            "Name: MessageReceivedDate, Length: 2061835, dtype: int64\n",
            "Распределение значений в столбце MessageProcessedDate:\n",
            "2023-07-02 18:29:49.750    5\n",
            "2023-08-26 14:07:04.817    5\n",
            "2023-07-29 10:32:05.847    5\n",
            "2023-08-31 07:08:20.217    5\n",
            "2023-08-29 05:51:01.340    5\n",
            "                          ..\n",
            "2023-07-21 10:48:58.850    1\n",
            "2023-07-21 10:48:54.813    1\n",
            "2023-07-21 10:48:46.970    1\n",
            "2023-07-21 10:48:35.397    1\n",
            "2023-08-31 23:59:57.547    1\n",
            "Name: MessageProcessedDate, Length: 2082542, dtype: int64\n",
            "Распределение значений в столбце DateEvent:\n",
            "2023-08-21 06:23:10.230    2\n",
            "2023-07-01 06:53:37.717    1\n",
            "2023-08-11 12:45:29.230    1\n",
            "2023-08-11 12:45:57.683    1\n",
            "2023-08-11 12:45:53.763    1\n",
            "                          ..\n",
            "2023-07-21 10:02:16.260    1\n",
            "2023-07-21 10:02:16.207    1\n",
            "2023-07-21 10:02:16.143    1\n",
            "2023-07-21 10:02:16.097    1\n",
            "2023-08-31 23:59:57.543    1\n",
            "Name: DateEvent, Length: 2090180, dtype: int64\n",
            "Распределение значений в столбце local_or_transfer:\n",
            "L    1701404\n",
            "T     388777\n",
            "Name: local_or_transfer, dtype: int64\n"
          ]
        }
      ]
    },
    {
      "cell_type": "markdown",
      "source": [
        "Матрица корелляции двух первых файлов\n",
        "Откинуть ненужные\n",
        "Сделать пятиминутны интервал, плюс день\n",
        "Затем добавить третий файл к объединению\n",
        "и y pax"
      ],
      "metadata": {
        "id": "N2M1ClRiRYa9"
      }
    }
  ]
}