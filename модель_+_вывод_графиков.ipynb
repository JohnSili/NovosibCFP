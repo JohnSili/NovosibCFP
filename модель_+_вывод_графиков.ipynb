{
  "cells": [
    {
      "cell_type": "markdown",
      "metadata": {
        "id": "view-in-github",
        "colab_type": "text"
      },
      "source": [
        "<a href=\"https://colab.research.google.com/github/JohnSili/NovosibCFP/blob/main/%D0%BC%D0%BE%D0%B4%D0%B5%D0%BB%D1%8C_%2B_%D0%B2%D1%8B%D0%B2%D0%BE%D0%B4_%D0%B3%D1%80%D0%B0%D1%84%D0%B8%D0%BA%D0%BE%D0%B2.ipynb\" target=\"_parent\"><img src=\"https://colab.research.google.com/assets/colab-badge.svg\" alt=\"Open In Colab\"/></a>"
      ]
    },
    {
      "cell_type": "code",
      "execution_count": 1,
      "metadata": {
        "colab": {
          "base_uri": "https://localhost:8080/"
        },
        "id": "hIriQgCoL1c1",
        "outputId": "feadf124-b453-44da-e98c-3866a4e533f8"
      },
      "outputs": [
        {
          "output_type": "stream",
          "name": "stdout",
          "text": [
            "Drive already mounted at /content/drive; to attempt to forcibly remount, call drive.mount(\"/content/drive\", force_remount=True).\n"
          ]
        }
      ],
      "source": [
        "from google.colab import drive\n",
        "drive.mount('/content/drive')"
      ]
    },
    {
      "cell_type": "code",
      "execution_count": 2,
      "metadata": {
        "id": "CitgroeAisje"
      },
      "outputs": [],
      "source": [
        "import pandas as pd\n",
        "df = pd.read_csv('/content/drive/MyDrive/train_dataset_luggage/last_combo.csv')"
      ]
    },
    {
      "cell_type": "code",
      "execution_count": 3,
      "metadata": {
        "id": "DWMFPZ0WjYnE"
      },
      "outputs": [],
      "source": [
        "df = df.drop(['MessageReceivedDate','MessageProcessedDate',\t'DateEvent', 'Unnamed: 0'], axis=1)"
      ]
    },
    {
      "cell_type": "code",
      "execution_count": 4,
      "metadata": {
        "id": "NVZWLsImkISj"
      },
      "outputs": [],
      "source": [
        "df['ts'] = pd.to_datetime(df['ts'])\n",
        "# Извлечение дня недели, часа и минуты\n",
        "df['Weekday_reg'] = df['ts'].dt.weekday\n",
        "df['Hour_reg'] = df['ts'].dt.hour\n",
        "df['Minute_reg'] = df['ts'].dt.minute"
      ]
    },
    {
      "cell_type": "code",
      "execution_count": 5,
      "metadata": {
        "id": "YAZPZ4QYPH_9"
      },
      "outputs": [],
      "source": [
        "features = ['departure_terminal_encoded','checkin_terminal_encoded','Weekday_reg', 'Hour_reg','Minute_reg', 'DayTime','local_or_transfer_binary','config']\n",
        "target = ['VolumePerMinute','pax_arrival_profile']\n",
        "\n",
        "X = df[features]\n",
        "y = df[target]"
      ]
    },
    {
      "cell_type": "code",
      "execution_count": 7,
      "metadata": {
        "id": "lE-LC9QDheVn"
      },
      "outputs": [],
      "source": [
        "from sklearn.model_selection import train_test_split\n",
        "\n",
        "# Разделение данных на обучающую и тестовую выборки\n",
        "X_train, X_test, y_train, y_test = train_test_split(X, y, test_size=0.2, random_state=42)\n",
        "\n",
        "# Создание и обучение модели для прогнозирования y\n",
        "y_model = RandomForestRegressor(random_state=42)\n",
        "y_model.fit(X_train, y_train)\n",
        "y_pred_train = y_model.predict(X_train)\n",
        "y_pred_test = y_model.predict(X_test)"
      ]
    },
    {
      "cell_type": "code",
      "execution_count": 8,
      "metadata": {
        "colab": {
          "base_uri": "https://localhost:8080/"
        },
        "id": "sWw4TDO5yl5m",
        "outputId": "901cd589-57f6-4115-ae25-6d63fa6feefa"
      },
      "outputs": [
        {
          "output_type": "stream",
          "name": "stdout",
          "text": [
            "MAE: 11.986119996732139\n",
            "MSE: 633.1554951723369\n",
            "RMSE: 25.16258125018848\n"
          ]
        }
      ],
      "source": [
        "from sklearn.metrics import mean_absolute_error, mean_squared_error\n",
        "import numpy as np\n",
        "# Рассчитываем метрики\n",
        "mae = mean_absolute_error(y_test, y_pred_test)\n",
        "mse = mean_squared_error(y_test, y_pred_test)\n",
        "rmse = np.sqrt(mse)\n",
        "\n",
        "print(f'MAE: {mae}')\n",
        "print(f'MSE: {mse}')\n",
        "print(f'RMSE: {rmse}')"
      ]
    },
    {
      "cell_type": "code",
      "execution_count": 47,
      "metadata": {
        "colab": {
          "base_uri": "https://localhost:8080/"
        },
        "id": "FwAv7TciyRAh",
        "outputId": "e5cc3781-d220-408b-e442-539f00bac559"
      },
      "outputs": [
        {
          "output_type": "stream",
          "name": "stderr",
          "text": [
            "/usr/local/lib/python3.10/dist-packages/sklearn/base.py:439: UserWarning: X does not have valid feature names, but IsolationForest was fitted with feature names\n",
            "  warnings.warn(\n"
          ]
        }
      ],
      "source": [
        "from sklearn.ensemble import IsolationForest\n",
        "\n",
        "# Создание и обучение модели для поиска аномалий в X_test\n",
        "anomaly_model_test = IsolationForest(contamination=0.05, random_state=42)\n",
        "anomaly_pred_test = anomaly_model_test.fit_predict(X_test.iloc[[0]])\n",
        "anomalies_X_test = X_test.iloc[[0]][anomaly_pred_test == -1]\n",
        "\n",
        "# Расчет абсолютных разниц между предсказанными и истинными значениями\n",
        "absolute_diff = abs(y_pred_test - y_test).sum(axis=1)\n",
        "\n",
        "# Рассчитываем сумму абсолютных разниц для каждой аномальной строки\n",
        "anomalies_influence = absolute_diff[anomalies_X_test.index]"
      ]
    },
    {
      "cell_type": "code",
      "source": [
        "print(anomalies_influence)"
      ],
      "metadata": {
        "colab": {
          "base_uri": "https://localhost:8080/",
          "height": 81
        },
        "id": "sc4ORd5x6IB0",
        "outputId": "03da20e6-1619-4297-bd60-3f16d0bd2f73"
      },
      "execution_count": 36,
      "outputs": [
        {
          "output_type": "execute_result",
          "data": {
            "text/plain": [
              "         departure_terminal_encoded  checkin_terminal_encoded  Weekday_reg  \\\n",
              "2037167                           0                         0            2   \n",
              "\n",
              "         Hour_reg  Minute_reg  DayTime  local_or_transfer_binary  config  \n",
              "2037167        16           5        2                         1     158  "
            ],
            "text/html": [
              "\n",
              "  <div id=\"df-3207defa-ea81-45fc-95d8-d2c22ccd7270\" class=\"colab-df-container\">\n",
              "    <div>\n",
              "<style scoped>\n",
              "    .dataframe tbody tr th:only-of-type {\n",
              "        vertical-align: middle;\n",
              "    }\n",
              "\n",
              "    .dataframe tbody tr th {\n",
              "        vertical-align: top;\n",
              "    }\n",
              "\n",
              "    .dataframe thead th {\n",
              "        text-align: right;\n",
              "    }\n",
              "</style>\n",
              "<table border=\"1\" class=\"dataframe\">\n",
              "  <thead>\n",
              "    <tr style=\"text-align: right;\">\n",
              "      <th></th>\n",
              "      <th>departure_terminal_encoded</th>\n",
              "      <th>checkin_terminal_encoded</th>\n",
              "      <th>Weekday_reg</th>\n",
              "      <th>Hour_reg</th>\n",
              "      <th>Minute_reg</th>\n",
              "      <th>DayTime</th>\n",
              "      <th>local_or_transfer_binary</th>\n",
              "      <th>config</th>\n",
              "    </tr>\n",
              "  </thead>\n",
              "  <tbody>\n",
              "    <tr>\n",
              "      <th>2037167</th>\n",
              "      <td>0</td>\n",
              "      <td>0</td>\n",
              "      <td>2</td>\n",
              "      <td>16</td>\n",
              "      <td>5</td>\n",
              "      <td>2</td>\n",
              "      <td>1</td>\n",
              "      <td>158</td>\n",
              "    </tr>\n",
              "  </tbody>\n",
              "</table>\n",
              "</div>\n",
              "    <div class=\"colab-df-buttons\">\n",
              "\n",
              "  <div class=\"colab-df-container\">\n",
              "    <button class=\"colab-df-convert\" onclick=\"convertToInteractive('df-3207defa-ea81-45fc-95d8-d2c22ccd7270')\"\n",
              "            title=\"Convert this dataframe to an interactive table.\"\n",
              "            style=\"display:none;\">\n",
              "\n",
              "  <svg xmlns=\"http://www.w3.org/2000/svg\" height=\"24px\" viewBox=\"0 -960 960 960\">\n",
              "    <path d=\"M120-120v-720h720v720H120Zm60-500h600v-160H180v160Zm220 220h160v-160H400v160Zm0 220h160v-160H400v160ZM180-400h160v-160H180v160Zm440 0h160v-160H620v160ZM180-180h160v-160H180v160Zm440 0h160v-160H620v160Z\"/>\n",
              "  </svg>\n",
              "    </button>\n",
              "\n",
              "  <style>\n",
              "    .colab-df-container {\n",
              "      display:flex;\n",
              "      gap: 12px;\n",
              "    }\n",
              "\n",
              "    .colab-df-convert {\n",
              "      background-color: #E8F0FE;\n",
              "      border: none;\n",
              "      border-radius: 50%;\n",
              "      cursor: pointer;\n",
              "      display: none;\n",
              "      fill: #1967D2;\n",
              "      height: 32px;\n",
              "      padding: 0 0 0 0;\n",
              "      width: 32px;\n",
              "    }\n",
              "\n",
              "    .colab-df-convert:hover {\n",
              "      background-color: #E2EBFA;\n",
              "      box-shadow: 0px 1px 2px rgba(60, 64, 67, 0.3), 0px 1px 3px 1px rgba(60, 64, 67, 0.15);\n",
              "      fill: #174EA6;\n",
              "    }\n",
              "\n",
              "    .colab-df-buttons div {\n",
              "      margin-bottom: 4px;\n",
              "    }\n",
              "\n",
              "    [theme=dark] .colab-df-convert {\n",
              "      background-color: #3B4455;\n",
              "      fill: #D2E3FC;\n",
              "    }\n",
              "\n",
              "    [theme=dark] .colab-df-convert:hover {\n",
              "      background-color: #434B5C;\n",
              "      box-shadow: 0px 1px 3px 1px rgba(0, 0, 0, 0.15);\n",
              "      filter: drop-shadow(0px 1px 2px rgba(0, 0, 0, 0.3));\n",
              "      fill: #FFFFFF;\n",
              "    }\n",
              "  </style>\n",
              "\n",
              "    <script>\n",
              "      const buttonEl =\n",
              "        document.querySelector('#df-3207defa-ea81-45fc-95d8-d2c22ccd7270 button.colab-df-convert');\n",
              "      buttonEl.style.display =\n",
              "        google.colab.kernel.accessAllowed ? 'block' : 'none';\n",
              "\n",
              "      async function convertToInteractive(key) {\n",
              "        const element = document.querySelector('#df-3207defa-ea81-45fc-95d8-d2c22ccd7270');\n",
              "        const dataTable =\n",
              "          await google.colab.kernel.invokeFunction('convertToInteractive',\n",
              "                                                    [key], {});\n",
              "        if (!dataTable) return;\n",
              "\n",
              "        const docLinkHtml = 'Like what you see? Visit the ' +\n",
              "          '<a target=\"_blank\" href=https://colab.research.google.com/notebooks/data_table.ipynb>data table notebook</a>'\n",
              "          + ' to learn more about interactive tables.';\n",
              "        element.innerHTML = '';\n",
              "        dataTable['output_type'] = 'display_data';\n",
              "        await google.colab.output.renderOutput(dataTable, element);\n",
              "        const docLink = document.createElement('div');\n",
              "        docLink.innerHTML = docLinkHtml;\n",
              "        element.appendChild(docLink);\n",
              "      }\n",
              "    </script>\n",
              "  </div>\n",
              "\n",
              "    </div>\n",
              "  </div>\n"
            ]
          },
          "metadata": {},
          "execution_count": 36
        }
      ]
    },
    {
      "cell_type": "code",
      "source": [
        "from sklearn.ensemble import IsolationForest\n",
        "\n",
        "# Создание и обучение модели для поиска аномалий в X_test\n",
        "anomaly_model_test = IsolationForest(contamination=0.05, random_state=42)\n",
        "anomaly_pred_test = anomaly_model_test.fit_predict(X_test)\n",
        "anomalies_X_test = X_test[anomaly_pred_test == -1]\n",
        "\n",
        "# Расчет абсолютных разниц между предсказанными и истинными значениями\n",
        "absolute_diff = abs(y_pred_test - y_test).sum(axis=1)\n",
        "\n",
        "# Рассчитываем сумму абсолютных разниц для каждой аномальной строки\n",
        "anomalies_influence = absolute_diff[anomalies_X_test.index]\n",
        "\n",
        "import matplotlib.pyplot as plt\n",
        "\n",
        "# Перебираем первые 5 аномальных строки\n",
        "for idx in anomalies_influence.head(5).index:\n",
        "    # Получаем данные x для этой аномалии\n",
        "    anomaly_x = X_test.loc[idx]\n",
        "      # Исключаем влияние столбца 'config'\n",
        "    feature_influence['config'] = 0\n",
        "\n",
        "    # Рассчитываем влияние признаков на итоговый результат y для этой аномалии\n",
        "    feature_influence = y_model.feature_importances_ * anomaly_x\n",
        "\n",
        "    # Визуализируем влияние признака\n",
        "    plt.figure(figsize=(10, 6))\n",
        "    plt.plot(feature_influence, label=f'Аномалия в строке {idx}')\n",
        "    plt.xlabel('Время')\n",
        "    plt.ylabel('Влияние признака')\n",
        "    plt.title(f'Влияние признака на предсказание для аномалии в строке {idx}')\n",
        "    plt.legend()\n",
        "    plt.show()"
      ],
      "metadata": {
        "id": "Uu7QQbiX6sG_"
      },
      "execution_count": null,
      "outputs": []
    },
    {
      "cell_type": "code",
      "execution_count": null,
      "metadata": {
        "colab": {
          "base_uri": "https://localhost:8080/"
        },
        "id": "PCEMosu3-4MI",
        "outputId": "51f3be9b-678d-4273-b4bb-136cb7e4eb1d"
      },
      "outputs": [
        {
          "name": "stdout",
          "output_type": "stream",
          "text": [
            "Requirement already satisfied: joblib in /usr/local/lib/python3.10/dist-packages (1.3.2)\n"
          ]
        }
      ],
      "source": [
        "!pip install joblib"
      ]
    },
    {
      "cell_type": "code",
      "execution_count": null,
      "metadata": {
        "colab": {
          "base_uri": "https://localhost:8080/"
        },
        "id": "YhVYdHIr-2I7",
        "outputId": "48b6805d-c2f5-427b-b317-ed4578083774"
      },
      "outputs": [
        {
          "data": {
            "text/plain": [
              "['/content/drive/MyDrive/train_dataset_luggage/модельки/anomaly_model.pkl']"
            ]
          },
          "execution_count": 39,
          "metadata": {},
          "output_type": "execute_result"
        }
      ],
      "source": [
        "import joblib\n",
        "\n",
        "# Сохранение модели для прогнозирования y\n",
        "joblib.dump(y_model, '/content/drive/MyDrive/train_dataset_luggage/модельки/y_model.pkl')\n"
      ]
    },
    {
      "cell_type": "code",
      "source": [
        "import pickle\n",
        "\n",
        "# Сохранение модели для прогнозирования y\n",
        "with open('/content/drive/MyDrive/train_dataset_luggage/модельки/y_model_pickle.pkl', 'wb') as file:\n",
        "    pickle.dump(y_model, file)\n",
        "\n"
      ],
      "metadata": {
        "id": "YbtpSUvysdJM"
      },
      "execution_count": 25,
      "outputs": []
    }
  ],
  "metadata": {
    "colab": {
      "provenance": [],
      "mount_file_id": "1cKIS8lyQ62TttZ4aL1ccvI9DFW0C8P0b",
      "authorship_tag": "ABX9TyOia0eQL3rVKIFVlK0pgG1Y",
      "include_colab_link": true
    },
    "kernelspec": {
      "display_name": "Python 3",
      "name": "python3"
    },
    "language_info": {
      "name": "python"
    }
  },
  "nbformat": 4,
  "nbformat_minor": 0
}